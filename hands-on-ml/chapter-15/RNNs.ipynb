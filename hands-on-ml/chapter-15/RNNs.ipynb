{
 "cells": [
  {
   "cell_type": "markdown",
   "metadata": {
    "toc": true
   },
   "source": [
    "<h1>Table of Contents<span class=\"tocSkip\"></span></h1>\n",
    "<div class=\"toc\"><ul class=\"toc-item\"><li><span><a href=\"#RNNs-for-time-series-prediction\" data-toc-modified-id=\"RNNs-for-time-series-prediction-1\">RNNs for time series prediction</a></span><ul class=\"toc-item\"><li><span><a href=\"#Time-series\" data-toc-modified-id=\"Time-series-1.1\">Time series</a></span></li><li><span><a href=\"#Baselines\" data-toc-modified-id=\"Baselines-1.2\">Baselines</a></span><ul class=\"toc-item\"><li><span><a href=\"#Naive\" data-toc-modified-id=\"Naive-1.2.1\">Naive</a></span></li><li><span><a href=\"#Fully-connected-network\" data-toc-modified-id=\"Fully-connected-network-1.2.2\">Fully connected network</a></span></li></ul></li><li><span><a href=\"#Simple-RNN\" data-toc-modified-id=\"Simple-RNN-1.3\">Simple RNN</a></span></li><li><span><a href=\"#Deep-RNN\" data-toc-modified-id=\"Deep-RNN-1.4\">Deep RNN</a></span><ul class=\"toc-item\"><li><span><a href=\"#One-step-prediction\" data-toc-modified-id=\"One-step-prediction-1.4.1\">One step prediction</a></span></li><li><span><a href=\"#Predict-several-steps-ahead\" data-toc-modified-id=\"Predict-several-steps-ahead-1.4.2\">Predict several steps ahead</a></span></li></ul></li></ul></li></ul></div>"
   ]
  },
  {
   "cell_type": "markdown",
   "metadata": {},
   "source": [
    "## RNNs for time series prediction"
   ]
  },
  {
   "cell_type": "code",
   "execution_count": 2,
   "metadata": {},
   "outputs": [],
   "source": [
    "%matplotlib inline\n",
    "\n",
    "import matplotlib.pyplot as plt\n",
    "import numpy as np\n",
    "\n",
    "import tensorflow.keras as keras"
   ]
  },
  {
   "cell_type": "markdown",
   "metadata": {},
   "source": [
    "### Time series"
   ]
  },
  {
   "cell_type": "code",
   "execution_count": 5,
   "metadata": {},
   "outputs": [
    {
     "data": {
      "text/plain": [
       "array([[[-0.2840637 ],\n",
       "        [-0.1182277 ],\n",
       "        [-0.21091172],\n",
       "        [-0.08119753],\n",
       "        [-0.14346898]],\n",
       "\n",
       "       [[-0.18569258],\n",
       "        [ 0.3468207 ],\n",
       "        [-0.10555648],\n",
       "        [ 0.16783413],\n",
       "        [-0.06385503]]], dtype=float32)"
      ]
     },
     "execution_count": 5,
     "metadata": {},
     "output_type": "execute_result"
    }
   ],
   "source": [
    "def generate_time_series(batch_size, n_steps):\n",
    "    freq1, freq2, offsets1, offsets2 = np.random.rand(4, batch_size, 1)\n",
    "\n",
    "    time = np.linspace(0, 1, n_steps)\n",
    "    \n",
    "    # wave 1\n",
    "    series = 0.5 * np.sin((time - offsets1) * (freq1 * 10 + 10))\n",
    "    # wave2\n",
    "    series += 0.2 * np.sin((time - offsets2) * (freq2 * 20 + 20))\n",
    "    # noise\n",
    "    series += 0.1 * (np.random.rand(batch_size, n_steps) - 0.5)\n",
    "    \n",
    "    return series[..., np.newaxis].astype(np.float32)\n",
    "\n",
    "generate_time_series(2, 5)"
   ]
  },
  {
   "cell_type": "code",
   "execution_count": 20,
   "metadata": {},
   "outputs": [
    {
     "data": {
      "image/png": "[encoded data removed]",
      "text/plain": [
       "<Figure size 432x288 with 1 Axes>"
      ]
     },
     "metadata": {
      "needs_background": "light"
     },
     "output_type": "display_data"
    }
   ],
   "source": [
    "plt.plot(generate_time_series(2, 100)[0]);\n",
    "plt.plot(generate_time_series(2, 100)[1]);"
   ]
  },
  {
   "cell_type": "code",
   "execution_count": 142,
   "metadata": {},
   "outputs": [],
   "source": [
    "n_steps = 50\n",
    "split1 = 7000\n",
    "split2 = 9000\n",
    "\n",
    "series = generate_time_series(10000, n_steps + 1)\n",
    "\n",
    "X_train, y_train = series[:split1, :n_steps], series[:split1, -1]\n",
    "X_valid, y_valid = series[split1:split2, :n_steps], series[split1:split2, -1]\n",
    "X_test, y_test = series[split2:, n_steps], series[split2:, -1]"
   ]
  },
  {
   "cell_type": "markdown",
   "metadata": {},
   "source": [
    "### Baselines"
   ]
  },
  {
   "cell_type": "markdown",
   "metadata": {},
   "source": [
    "#### Naive"
   ]
  },
  {
   "cell_type": "code",
   "execution_count": 25,
   "metadata": {},
   "outputs": [
    {
     "data": {
      "text/plain": [
       "0.020583153"
      ]
     },
     "execution_count": 25,
     "metadata": {},
     "output_type": "execute_result"
    }
   ],
   "source": [
    "y_pred = X_valid[:, -1]\n",
    "\n",
    "np.mean(keras.losses.mean_squared_error(y_valid, y_pred))"
   ]
  },
  {
   "cell_type": "markdown",
   "metadata": {},
   "source": [
    "#### Fully connected network"
   ]
  },
  {
   "cell_type": "code",
   "execution_count": 34,
   "metadata": {},
   "outputs": [
    {
     "name": "stdout",
     "output_type": "stream",
     "text": [
      "Train on 7000 samples, validate on 2000 samples\n",
      "Epoch 1/20\n",
      "7000/7000 [==============================] - 1s 162us/sample - loss: 0.3335 - val_loss: 0.2011\n",
      "Epoch 2/20\n",
      "7000/7000 [==============================] - 0s 70us/sample - loss: 0.1600 - val_loss: 0.1185\n",
      "Epoch 3/20\n",
      "7000/7000 [==============================] - 0s 67us/sample - loss: 0.1034 - val_loss: 0.0868\n",
      "Epoch 4/20\n",
      "7000/7000 [==============================] - 0s 59us/sample - loss: 0.0788 - val_loss: 0.0705\n",
      "Epoch 5/20\n",
      "7000/7000 [==============================] - 0s 59us/sample - loss: 0.0649 - val_loss: 0.0601\n",
      "Epoch 6/20\n",
      "7000/7000 [==============================] - 1s 78us/sample - loss: 0.0556 - val_loss: 0.0523\n",
      "Epoch 7/20\n",
      "7000/7000 [==============================] - 0s 69us/sample - loss: 0.0486 - val_loss: 0.0462\n",
      "Epoch 8/20\n",
      "7000/7000 [==============================] - 0s 67us/sample - loss: 0.0431 - val_loss: 0.0412\n",
      "Epoch 9/20\n",
      "7000/7000 [==============================] - 0s 62us/sample - loss: 0.0386 - val_loss: 0.0372\n",
      "Epoch 10/20\n",
      "7000/7000 [==============================] - 0s 61us/sample - loss: 0.0350 - val_loss: 0.0338\n",
      "Epoch 11/20\n",
      "7000/7000 [==============================] - 1s 95us/sample - loss: 0.0319 - val_loss: 0.0309\n",
      "Epoch 12/20\n",
      "7000/7000 [==============================] - 0s 70us/sample - loss: 0.0294 - val_loss: 0.0285\n",
      "Epoch 13/20\n",
      "7000/7000 [==============================] - 0s 58us/sample - loss: 0.0272 - val_loss: 0.0265\n",
      "Epoch 14/20\n",
      "7000/7000 [==============================] - 0s 62us/sample - loss: 0.0253 - val_loss: 0.0247\n",
      "Epoch 15/20\n",
      "7000/7000 [==============================] - 0s 56us/sample - loss: 0.0238 - val_loss: 0.0232\n",
      "Epoch 16/20\n",
      "7000/7000 [==============================] - 0s 57us/sample - loss: 0.0224 - val_loss: 0.0219\n",
      "Epoch 17/20\n",
      "7000/7000 [==============================] - 0s 56us/sample - loss: 0.0212 - val_loss: 0.0208\n",
      "Epoch 18/20\n",
      "7000/7000 [==============================] - 0s 57us/sample - loss: 0.0202 - val_loss: 0.0198\n",
      "Epoch 19/20\n",
      "7000/7000 [==============================] - 0s 66us/sample - loss: 0.0192 - val_loss: 0.0189\n",
      "Epoch 20/20\n",
      "7000/7000 [==============================] - 0s 57us/sample - loss: 0.0184 - val_loss: 0.0181\n"
     ]
    }
   ],
   "source": [
    "epochs = 20\n",
    "\n",
    "model = keras.models.Sequential([\n",
    "    keras.layers.Flatten(input_shape=[50, 1]),\n",
    "    keras.layers.Dense(1)\n",
    "])\n",
    "\n",
    "model.compile(loss=\"mse\", optimizer=keras.optimizers.SGD(lr=1e-3))\n",
    "\n",
    "history = model.fit(X_train, y_train, epochs=epochs,\n",
    "                    validation_data=(X_valid, y_valid))"
   ]
  },
  {
   "cell_type": "code",
   "execution_count": 35,
   "metadata": {},
   "outputs": [
    {
     "data": {
      "text/plain": [
       "0.018108191"
      ]
     },
     "execution_count": 35,
     "metadata": {},
     "output_type": "execute_result"
    }
   ],
   "source": [
    "y_pred = model.predict(X_valid)\n",
    "\n",
    "np.mean(keras.losses.mean_squared_error(y_valid, y_pred))"
   ]
  },
  {
   "cell_type": "markdown",
   "metadata": {},
   "source": [
    "### Simple RNN"
   ]
  },
  {
   "cell_type": "code",
   "execution_count": 36,
   "metadata": {},
   "outputs": [
    {
     "name": "stdout",
     "output_type": "stream",
     "text": [
      "Train on 7000 samples, validate on 2000 samples\n",
      "Epoch 1/20\n",
      "7000/7000 [==============================] - 9s 1ms/sample - loss: 0.3128 - val_loss: 0.2972\n",
      "Epoch 2/20\n",
      "7000/7000 [==============================] - 8s 1ms/sample - loss: 0.2618 - val_loss: 0.2485\n",
      "Epoch 3/20\n",
      "7000/7000 [==============================] - 8s 1ms/sample - loss: 0.2173 - val_loss: 0.2061\n",
      "Epoch 4/20\n",
      "7000/7000 [==============================] - 8s 1ms/sample - loss: 0.1791 - val_loss: 0.1698\n",
      "Epoch 5/20\n",
      "7000/7000 [==============================] - 8s 1ms/sample - loss: 0.1471 - val_loss: 0.1396\n",
      "Epoch 6/20\n",
      "7000/7000 [==============================] - 8s 1ms/sample - loss: 0.1208 - val_loss: 0.1151\n",
      "Epoch 7/20\n",
      "7000/7000 [==============================] - 8s 1ms/sample - loss: 0.0997 - val_loss: 0.0955\n",
      "Epoch 8/20\n",
      "7000/7000 [==============================] - 8s 1ms/sample - loss: 0.0829 - val_loss: 0.0801\n",
      "Epoch 9/20\n",
      "7000/7000 [==============================] - 8s 1ms/sample - loss: 0.0698 - val_loss: 0.0679\n",
      "Epoch 10/20\n",
      "7000/7000 [==============================] - 8s 1ms/sample - loss: 0.0594 - val_loss: 0.0583\n",
      "Epoch 11/20\n",
      "7000/7000 [==============================] - 8s 1ms/sample - loss: 0.0513 - val_loss: 0.0507\n",
      "Epoch 12/20\n",
      "7000/7000 [==============================] - 8s 1ms/sample - loss: 0.0449 - val_loss: 0.0447\n",
      "Epoch 13/20\n",
      "7000/7000 [==============================] - 8s 1ms/sample - loss: 0.0398 - val_loss: 0.0399\n",
      "Epoch 14/20\n",
      "7000/7000 [==============================] - 8s 1ms/sample - loss: 0.0358 - val_loss: 0.0361\n",
      "Epoch 15/20\n",
      "7000/7000 [==============================] - 8s 1ms/sample - loss: 0.0325 - val_loss: 0.0330\n",
      "Epoch 16/20\n",
      "7000/7000 [==============================] - 8s 1ms/sample - loss: 0.0299 - val_loss: 0.0305\n",
      "Epoch 17/20\n",
      "7000/7000 [==============================] - 8s 1ms/sample - loss: 0.0277 - val_loss: 0.0284\n",
      "Epoch 18/20\n",
      "7000/7000 [==============================] - 8s 1ms/sample - loss: 0.0260 - val_loss: 0.0267\n",
      "Epoch 19/20\n",
      "7000/7000 [==============================] - 8s 1ms/sample - loss: 0.0246 - val_loss: 0.0253\n",
      "Epoch 20/20\n",
      "7000/7000 [==============================] - 8s 1ms/sample - loss: 0.0234 - val_loss: 0.0242\n"
     ]
    },
    {
     "data": {
      "text/plain": [
       "<tensorflow.python.keras.callbacks.History at 0x7f8f9eae7250>"
      ]
     },
     "execution_count": 36,
     "metadata": {},
     "output_type": "execute_result"
    }
   ],
   "source": [
    "model = keras.models.Sequential([\n",
    "    keras.layers.SimpleRNN(1, input_shape=[None, 1])\n",
    "])\n",
    "\n",
    "model.compile(loss=\"mse\", optimizer=keras.optimizers.SGD(lr=1e-3))\n",
    "\n",
    "model.fit(X_train, y_train, epochs=epochs,\n",
    "          validation_data=(X_valid, y_valid))"
   ]
  },
  {
   "cell_type": "code",
   "execution_count": 37,
   "metadata": {},
   "outputs": [
    {
     "data": {
      "text/plain": [
       "0.024152908"
      ]
     },
     "execution_count": 37,
     "metadata": {},
     "output_type": "execute_result"
    }
   ],
   "source": [
    "y_pred = model.predict(X_valid)\n",
    "\n",
    "np.mean(keras.losses.mean_squared_error(y_valid, y_pred))"
   ]
  },
  {
   "cell_type": "markdown",
   "metadata": {},
   "source": [
    "### Deep RNN"
   ]
  },
  {
   "cell_type": "markdown",
   "metadata": {},
   "source": [
    "#### One step prediction"
   ]
  },
  {
   "cell_type": "code",
   "execution_count": 116,
   "metadata": {},
   "outputs": [
    {
     "name": "stdout",
     "output_type": "stream",
     "text": [
      "Train on 7000 samples, validate on 2000 samples\n",
      "Epoch 1/20\n",
      "7000/7000 [==============================] - 20s 3ms/sample - loss: 0.1141 - val_loss: 0.0571\n",
      "Epoch 2/20\n",
      "7000/7000 [==============================] - 15s 2ms/sample - loss: 0.0459 - val_loss: 0.0405\n",
      "Epoch 3/20\n",
      "7000/7000 [==============================] - 16s 2ms/sample - loss: 0.0341 - val_loss: 0.0315\n",
      "Epoch 4/20\n",
      "7000/7000 [==============================] - 15s 2ms/sample - loss: 0.0273 - val_loss: 0.0258\n",
      "Epoch 5/20\n",
      "7000/7000 [==============================] - 15s 2ms/sample - loss: 0.0230 - val_loss: 0.0220\n",
      "Epoch 6/20\n",
      "7000/7000 [==============================] - 15s 2ms/sample - loss: 0.0199 - val_loss: 0.0193\n",
      "Epoch 7/20\n",
      "7000/7000 [==============================] - 15s 2ms/sample - loss: 0.0176 - val_loss: 0.0172\n",
      "Epoch 8/20\n",
      "7000/7000 [==============================] - 15s 2ms/sample - loss: 0.0158 - val_loss: 0.0156\n",
      "Epoch 9/20\n",
      "7000/7000 [==============================] - 15s 2ms/sample - loss: 0.0144 - val_loss: 0.0145\n",
      "Epoch 10/20\n",
      "7000/7000 [==============================] - 15s 2ms/sample - loss: 0.0133 - val_loss: 0.0137\n",
      "Epoch 11/20\n",
      "7000/7000 [==============================] - 15s 2ms/sample - loss: 0.0124 - val_loss: 0.0125\n",
      "Epoch 12/20\n",
      "7000/7000 [==============================] - 15s 2ms/sample - loss: 0.0117 - val_loss: 0.0120\n",
      "Epoch 13/20\n",
      "7000/7000 [==============================] - 15s 2ms/sample - loss: 0.0111 - val_loss: 0.0112\n",
      "Epoch 14/20\n",
      "7000/7000 [==============================] - 15s 2ms/sample - loss: 0.0105 - val_loss: 0.0108\n",
      "Epoch 15/20\n",
      "7000/7000 [==============================] - 15s 2ms/sample - loss: 0.0101 - val_loss: 0.0102\n",
      "Epoch 16/20\n",
      "7000/7000 [==============================] - 16s 2ms/sample - loss: 0.0096 - val_loss: 0.0098\n",
      "Epoch 17/20\n",
      "7000/7000 [==============================] - 15s 2ms/sample - loss: 0.0093 - val_loss: 0.0095\n",
      "Epoch 18/20\n",
      "7000/7000 [==============================] - 15s 2ms/sample - loss: 0.0089 - val_loss: 0.0092\n",
      "Epoch 19/20\n",
      "7000/7000 [==============================] - 16s 2ms/sample - loss: 0.0087 - val_loss: 0.0088\n",
      "Epoch 20/20\n",
      "7000/7000 [==============================] - 16s 2ms/sample - loss: 0.0084 - val_loss: 0.0086\n"
     ]
    },
    {
     "data": {
      "text/plain": [
       "<tensorflow.python.keras.callbacks.History at 0x7fc91fe62cd0>"
      ]
     },
     "execution_count": 116,
     "metadata": {},
     "output_type": "execute_result"
    }
   ],
   "source": [
    "# sequence-to-vector model\n",
    "model = keras.models.Sequential([\n",
    "    keras.layers.SimpleRNN(20, return_sequences=True, input_shape=[None, 1]),\n",
    "    keras.layers.SimpleRNN(20),\n",
    "    keras.layers.Dense(1)\n",
    "])\n",
    "\n",
    "model.compile(loss=\"mse\", optimizer=keras.optimizers.SGD(lr=1e-3))\n",
    "\n",
    "model.fit(X_train, y_train, epochs=epochs,\n",
    "          validation_data=(X_valid, y_valid))"
   ]
  },
  {
   "cell_type": "code",
   "execution_count": 117,
   "metadata": {},
   "outputs": [
    {
     "data": {
      "text/plain": [
       "0.008582104"
      ]
     },
     "execution_count": 117,
     "metadata": {},
     "output_type": "execute_result"
    }
   ],
   "source": [
    "y_pred = model.predict(X_valid)\n",
    "\n",
    "np.mean(keras.losses.mean_squared_error(y_valid, y_pred))"
   ]
  },
  {
   "cell_type": "markdown",
   "metadata": {},
   "source": [
    "#### Predict several steps ahead "
   ]
  },
  {
   "cell_type": "code",
   "execution_count": 169,
   "metadata": {},
   "outputs": [],
   "source": [
    "steps_ahead = 10\n",
    "\n",
    "series = generate_time_series(10000, n_steps + steps_ahead)\n",
    "\n",
    "X_train = series[:split1, :n_steps]\n",
    "X_valid = series[split1:split2, :n_steps]\n",
    "X_test = series[split2:, n_steps]\n",
    "\n",
    "Y = np.empty((10000, n_steps, steps_ahead))\n",
    "\n",
    "for step in range(1, steps_ahead + 1):\n",
    "    Y[:, :, step - 1] = series[:, step: step + n_steps, 0]\n",
    "    \n",
    "Y_train = Y[:split1]\n",
    "Y_valid = Y[split1:split2]\n",
    "Y_test = Y[split2:]"
   ]
  },
  {
   "cell_type": "code",
   "execution_count": 170,
   "metadata": {},
   "outputs": [],
   "source": [
    "model = keras.models.Sequential([\n",
    "    keras.layers.SimpleRNN(20, return_sequences=True, input_shape=[None, 1]),\n",
    "    keras.layers.SimpleRNN(20, return_sequences=True),\n",
    "    # time distribution\n",
    "    keras.layers.TimeDistributed(keras.layers.Dense(10))\n",
    "])"
   ]
  },
  {
   "cell_type": "code",
   "execution_count": 171,
   "metadata": {},
   "outputs": [
    {
     "name": "stdout",
     "output_type": "stream",
     "text": [
      "Train on 7000 samples, validate on 2000 samples\n",
      "Epoch 1/20\n",
      "7000/7000 [==============================] - 20s 3ms/sample - loss: 0.1945 - last_time_step_mse: 0.1954 - val_loss: 0.1588 - val_last_time_step_mse: 0.1524\n",
      "Epoch 2/20\n",
      "7000/7000 [==============================] - 16s 2ms/sample - loss: 0.1483 - last_time_step_mse: 0.1377 - val_loss: 0.1391 - val_last_time_step_mse: 0.1283\n",
      "Epoch 3/20\n",
      "7000/7000 [==============================] - 16s 2ms/sample - loss: 0.1330 - last_time_step_mse: 0.1201 - val_loss: 0.1269 - val_last_time_step_mse: 0.1145\n",
      "Epoch 4/20\n",
      "7000/7000 [==============================] - 18s 3ms/sample - loss: 0.1224 - last_time_step_mse: 0.1088 - val_loss: 0.1177 - val_last_time_step_mse: 0.1047\n",
      "Epoch 5/20\n",
      "7000/7000 [==============================] - 17s 2ms/sample - loss: 0.1142 - last_time_step_mse: 0.1004 - val_loss: 0.1104 - val_last_time_step_mse: 0.0968\n",
      "Epoch 6/20\n",
      "7000/7000 [==============================] - 15s 2ms/sample - loss: 0.1076 - last_time_step_mse: 0.0936 - val_loss: 0.1043 - val_last_time_step_mse: 0.0905\n",
      "Epoch 7/20\n",
      "7000/7000 [==============================] - 15s 2ms/sample - loss: 0.1020 - last_time_step_mse: 0.0879 - val_loss: 0.0992 - val_last_time_step_mse: 0.0853\n",
      "Epoch 8/20\n",
      "7000/7000 [==============================] - 15s 2ms/sample - loss: 0.0974 - last_time_step_mse: 0.0833 - val_loss: 0.0949 - val_last_time_step_mse: 0.0808\n",
      "Epoch 9/20\n",
      "7000/7000 [==============================] - 18s 3ms/sample - loss: 0.0934 - last_time_step_mse: 0.0792 - val_loss: 0.0912 - val_last_time_step_mse: 0.0771\n",
      "Epoch 10/20\n",
      "7000/7000 [==============================] - 16s 2ms/sample - loss: 0.0899 - last_time_step_mse: 0.0758 - val_loss: 0.0880 - val_last_time_step_mse: 0.0737\n",
      "Epoch 11/20\n",
      "7000/7000 [==============================] - 16s 2ms/sample - loss: 0.0869 - last_time_step_mse: 0.0728 - val_loss: 0.0852 - val_last_time_step_mse: 0.0708\n",
      "Epoch 12/20\n",
      "7000/7000 [==============================] - 16s 2ms/sample - loss: 0.0844 - last_time_step_mse: 0.0702 - val_loss: 0.0828 - val_last_time_step_mse: 0.0683\n",
      "Epoch 13/20\n",
      "7000/7000 [==============================] - 18s 3ms/sample - loss: 0.0821 - last_time_step_mse: 0.0679 - val_loss: 0.0807 - val_last_time_step_mse: 0.0661\n",
      "Epoch 14/20\n",
      "7000/7000 [==============================] - 18s 3ms/sample - loss: 0.0802 - last_time_step_mse: 0.0660 - val_loss: 0.0789 - val_last_time_step_mse: 0.0643\n",
      "Epoch 15/20\n",
      "7000/7000 [==============================] - 17s 2ms/sample - loss: 0.0785 - last_time_step_mse: 0.0643 - val_loss: 0.0773 - val_last_time_step_mse: 0.0626\n",
      "Epoch 16/20\n",
      "7000/7000 [==============================] - 16s 2ms/sample - loss: 0.0769 - last_time_step_mse: 0.0628 - val_loss: 0.0758 - val_last_time_step_mse: 0.0611\n",
      "Epoch 17/20\n",
      "7000/7000 [==============================] - 17s 2ms/sample - loss: 0.0756 - last_time_step_mse: 0.0614 - val_loss: 0.0746 - val_last_time_step_mse: 0.0599\n",
      "Epoch 18/20\n",
      "7000/7000 [==============================] - 17s 2ms/sample - loss: 0.0744 - last_time_step_mse: 0.0603 - val_loss: 0.0735 - val_last_time_step_mse: 0.0585\n",
      "Epoch 19/20\n",
      "7000/7000 [==============================] - 16s 2ms/sample - loss: 0.0734 - last_time_step_mse: 0.0592 - val_loss: 0.0725 - val_last_time_step_mse: 0.0577\n",
      "Epoch 20/20\n",
      "7000/7000 [==============================] - 16s 2ms/sample - loss: 0.0724 - last_time_step_mse: 0.0583 - val_loss: 0.0716 - val_last_time_step_mse: 0.0568\n"
     ]
    },
    {
     "data": {
      "text/plain": [
       "<tensorflow.python.keras.callbacks.History at 0x7fc6612bc210>"
      ]
     },
     "execution_count": 171,
     "metadata": {},
     "output_type": "execute_result"
    }
   ],
   "source": [
    "def last_time_step_mse(Y_true, Y_pred):\n",
    "    return keras.metrics.mean_squared_error(Y_true[:, -1], Y_pred[:, -1])\n",
    "\n",
    "\n",
    "model.compile(loss=\"mse\",\n",
    "              optimizer=keras.optimizers.SGD(lr=1e-3),\n",
    "              metrics=[last_time_step_mse])\n",
    "\n",
    "model.fit(X_train, Y_train, epochs=epochs, validation_data=(X_valid, Y_valid))"
   ]
  },
  {
   "cell_type": "code",
   "execution_count": 173,
   "metadata": {},
   "outputs": [],
   "source": [
    "series = generate_time_series(1, n_steps + steps_ahead)\n",
    "\n",
    "X_new, Y_new = series[:, :n_steps, :], series[:, n_steps:, :]\n",
    "Y_pred = model.predict(X_new)[:, -1][..., np.newaxis]"
   ]
  },
  {
   "cell_type": "code",
   "execution_count": null,
   "metadata": {},
   "outputs": [],
   "source": []
  },
  {
   "cell_type": "code",
   "execution_count": null,
   "metadata": {},
   "outputs": [],
   "source": []
  }
 ],
 "metadata": {
  "kernelspec": {
   "display_name": "Python 3",
   "language": "python",
   "name": "python3"
  },
  "language_info": {
   "codemirror_mode": {
    "name": "ipython",
    "version": 3
   },
   "file_extension": ".py",
   "mimetype": "text/x-python",
   "name": "python",
   "nbconvert_exporter": "python",
   "pygments_lexer": "ipython3",
   "version": "3.7.7"
  },
  "toc": {
   "base_numbering": 1,
   "nav_menu": {},
   "number_sections": false,
   "sideBar": true,
   "skip_h1_title": false,
   "title_cell": "Table of Contents",
   "title_sidebar": "Contents",
   "toc_cell": true,
   "toc_position": {
    "height": "calc(100% - 180px)",
    "left": "10px",
    "top": "150px",
    "width": "336px"
   },
   "toc_section_display": true,
   "toc_window_display": true
  },
  "varInspector": {
   "cols": {
    "lenName": 16,
    "lenType": 16,
    "lenVar": 40
   },
   "kernels_config": {
    "python": {
     "delete_cmd_postfix": "",
     "delete_cmd_prefix": "del ",
     "library": "var_list.py",
     "varRefreshCmd": "print(var_dic_list())"
    },
    "r": {
     "delete_cmd_postfix": ") ",
     "delete_cmd_prefix": "rm(",
     "library": "var_list.r",
     "varRefreshCmd": "cat(var_dic_list()) "
    }
   },
   "types_to_exclude": [
    "module",
    "function",
    "builtin_function_or_method",
    "instance",
    "_Feature"
   ],
   "window_display": false
  }
 },
 "nbformat": 4,
 "nbformat_minor": 4
}
