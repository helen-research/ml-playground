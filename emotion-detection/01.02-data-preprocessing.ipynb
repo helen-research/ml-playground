{
 "cells": [
  {
   "cell_type": "markdown",
   "metadata": {},
   "source": [
    "# Preprocessing\n",
    "\n",
    "* convert sounds to images by calculating [Mel Spectrogram](https://medium.com/analytics-vidhya/understanding-the-mel-spectrogram-fca2afa2ce53)\n",
    "* re-arange image files to the structure expected by [fast ImageDataBunch.from_folder]( https://docs.fast.ai/vision.data.html#ImageDataBunch.from_folder):\n",
    "    * train/\n",
    "        * neutral/\n",
    "        * calm/\n",
    "        * happy/\n",
    "        * ...\n",
    "    * test/\n",
    "        * neutral/\n",
    "        * ...\n",
    "    * valid/\n",
    "        * neutral/\n",
    "        * ..."
   ]
  },
  {
   "cell_type": "code",
   "execution_count": 1,
   "metadata": {},
   "outputs": [
    {
     "data": {
      "text/html": [
       "<div>\n",
       "<style scoped>\n",
       "    .dataframe tbody tr th:only-of-type {\n",
       "        vertical-align: middle;\n",
       "    }\n",
       "\n",
       "    .dataframe tbody tr th {\n",
       "        vertical-align: top;\n",
       "    }\n",
       "\n",
       "    .dataframe thead th {\n",
       "        text-align: right;\n",
       "    }\n",
       "</style>\n",
       "<table border=\"1\" class=\"dataframe\">\n",
       "  <thead>\n",
       "    <tr style=\"text-align: right;\">\n",
       "      <th></th>\n",
       "      <th>emotion</th>\n",
       "      <th>intensity</th>\n",
       "      <th>statement</th>\n",
       "      <th>repetition</th>\n",
       "      <th>actor</th>\n",
       "      <th>actor_name</th>\n",
       "      <th>file_name</th>\n",
       "    </tr>\n",
       "  </thead>\n",
       "  <tbody>\n",
       "    <tr>\n",
       "      <th>1027</th>\n",
       "      <td>angry</td>\n",
       "      <td>strong</td>\n",
       "      <td>1</td>\n",
       "      <td>1</td>\n",
       "      <td>male</td>\n",
       "      <td>actor_14</td>\n",
       "      <td>data/Actor_14/03-01-05-02-01-01-14.wav</td>\n",
       "    </tr>\n",
       "    <tr>\n",
       "      <th>522</th>\n",
       "      <td>calm</td>\n",
       "      <td>strong</td>\n",
       "      <td>1</td>\n",
       "      <td>2</td>\n",
       "      <td>male</td>\n",
       "      <td>actor_04</td>\n",
       "      <td>data/Actor_04/03-01-02-02-01-02-04.wav</td>\n",
       "    </tr>\n",
       "    <tr>\n",
       "      <th>918</th>\n",
       "      <td>angry</td>\n",
       "      <td>strong</td>\n",
       "      <td>1</td>\n",
       "      <td>2</td>\n",
       "      <td>male</td>\n",
       "      <td>actor_24</td>\n",
       "      <td>data/Actor_24/03-01-05-02-01-02-24.wav</td>\n",
       "    </tr>\n",
       "    <tr>\n",
       "      <th>480</th>\n",
       "      <td>happy</td>\n",
       "      <td>strong</td>\n",
       "      <td>2</td>\n",
       "      <td>2</td>\n",
       "      <td>male</td>\n",
       "      <td>actor_04</td>\n",
       "      <td>data/Actor_04/03-01-03-02-02-02-04.wav</td>\n",
       "    </tr>\n",
       "    <tr>\n",
       "      <th>820</th>\n",
       "      <td>sad</td>\n",
       "      <td>normal</td>\n",
       "      <td>1</td>\n",
       "      <td>1</td>\n",
       "      <td>female</td>\n",
       "      <td>actor_15</td>\n",
       "      <td>data/Actor_15/03-01-04-01-01-01-15.wav</td>\n",
       "    </tr>\n",
       "  </tbody>\n",
       "</table>\n",
       "</div>"
      ],
      "text/plain": [
       "     emotion intensity  statement  repetition   actor actor_name  \\\n",
       "1027   angry    strong          1           1    male   actor_14   \n",
       "522     calm    strong          1           2    male   actor_04   \n",
       "918    angry    strong          1           2    male   actor_24   \n",
       "480    happy    strong          2           2    male   actor_04   \n",
       "820      sad    normal          1           1  female   actor_15   \n",
       "\n",
       "                                   file_name  \n",
       "1027  data/Actor_14/03-01-05-02-01-01-14.wav  \n",
       "522   data/Actor_04/03-01-02-02-01-02-04.wav  \n",
       "918   data/Actor_24/03-01-05-02-01-02-24.wav  \n",
       "480   data/Actor_04/03-01-03-02-02-02-04.wav  \n",
       "820   data/Actor_15/03-01-04-01-01-01-15.wav  "
      ]
     },
     "execution_count": 1,
     "metadata": {},
     "output_type": "execute_result"
    }
   ],
   "source": [
    "import pandas as pd\n",
    "\n",
    "meta_data = pd.read_csv('meta_data.csv')\n",
    "meta_data.sample(5)"
   ]
  },
  {
   "cell_type": "code",
   "execution_count": 31,
   "metadata": {},
   "outputs": [
    {
     "name": "stdout",
     "output_type": "stream",
     "text": [
      "Removing existing folder\n"
     ]
    }
   ],
   "source": [
    "import pathlib\n",
    "import shutil\n",
    "\n",
    "folder_prep_data = './data-preprocessed'\n",
    "folder_data = './data'\n",
    "\n",
    "path = pathlib.Path(folder_prep_data)\n",
    "if path.exists():\n",
    "    print('Removing existing folder')\n",
    "    shutil.rmtree(path)\n",
    "\n",
    "# create folder for preprocessed data\n",
    "path.mkdir()"
   ]
  },
  {
   "cell_type": "code",
   "execution_count": 32,
   "metadata": {},
   "outputs": [],
   "source": [
    "# crearte folders for each class\n",
    "\n",
    "for type_ in ['train', 'test', 'valid']:\n",
    "    new_folder = path / type_\n",
    "    new_folder.mkdir()\n",
    "    \n",
    "    for class_ in meta_data.emotion.unique():\n",
    "        new_folder = path / type_ / class_\n",
    "        new_folder.mkdir()"
   ]
  },
  {
   "cell_type": "code",
   "execution_count": null,
   "metadata": {},
   "outputs": [],
   "source": []
  },
  {
   "cell_type": "code",
   "execution_count": null,
   "metadata": {},
   "outputs": [],
   "source": []
  },
  {
   "cell_type": "code",
   "execution_count": null,
   "metadata": {},
   "outputs": [],
   "source": []
  }
 ],
 "metadata": {
  "kernelspec": {
   "display_name": "Python 3",
   "language": "python",
   "name": "python3"
  },
  "language_info": {
   "codemirror_mode": {
    "name": "ipython",
    "version": 3
   },
   "file_extension": ".py",
   "mimetype": "text/x-python",
   "name": "python",
   "nbconvert_exporter": "python",
   "pygments_lexer": "ipython3",
   "version": "3.7.6"
  },
  "toc": {
   "base_numbering": 1,
   "nav_menu": {},
   "number_sections": false,
   "sideBar": true,
   "skip_h1_title": false,
   "title_cell": "Table of Contents",
   "title_sidebar": "Contents",
   "toc_cell": false,
   "toc_position": {
    "height": "calc(100% - 180px)",
    "left": "10px",
    "top": "150px",
    "width": "336px"
   },
   "toc_section_display": true,
   "toc_window_display": true
  },
  "varInspector": {
   "cols": {
    "lenName": 16,
    "lenType": 16,
    "lenVar": 40
   },
   "kernels_config": {
    "python": {
     "delete_cmd_postfix": "",
     "delete_cmd_prefix": "del ",
     "library": "var_list.py",
     "varRefreshCmd": "print(var_dic_list())"
    },
    "r": {
     "delete_cmd_postfix": ") ",
     "delete_cmd_prefix": "rm(",
     "library": "var_list.r",
     "varRefreshCmd": "cat(var_dic_list()) "
    }
   },
   "types_to_exclude": [
    "module",
    "function",
    "builtin_function_or_method",
    "instance",
    "_Feature"
   ],
   "window_display": false
  }
 },
 "nbformat": 4,
 "nbformat_minor": 4
}
